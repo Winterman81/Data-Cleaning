{
 "cells": [
  {
   "cell_type": "code",
   "execution_count": 1,
   "metadata": {},
   "outputs": [],
   "source": [
    "#DATA CLEANING EXERCISE\n",
    "#1) Straighten it out to a table of at least 7 columns.\n",
    "#2) Identify the top 5 predominant ages in the dataset.\n",
    "#3) Determine the bank with the largest share transactions\n",
    "#4) Show a distribution of channels used on transactions\n",
    "\n"
   ]
  },
  {
   "cell_type": "code",
   "execution_count": null,
   "metadata": {},
   "outputs": [],
   "source": []
  },
  {
   "cell_type": "code",
   "execution_count": 5,
   "metadata": {},
   "outputs": [],
   "source": [
    "import numpy as np\n",
    "import pandas as pd\n",
    "from datetime import datetime\n",
    "%matplotlib inline\n",
    "from matplotlib import pyplot as plt\n",
    "from matplotlib import style\n",
    "style.use('fivethirtyeight')"
   ]
  },
  {
   "cell_type": "code",
   "execution_count": 2,
   "metadata": {},
   "outputs": [
    {
     "data": {
      "text/html": [
       "<div>\n",
       "<style scoped>\n",
       "    .dataframe tbody tr th:only-of-type {\n",
       "        vertical-align: middle;\n",
       "    }\n",
       "\n",
       "    .dataframe tbody tr th {\n",
       "        vertical-align: top;\n",
       "    }\n",
       "\n",
       "    .dataframe thead th {\n",
       "        text-align: right;\n",
       "    }\n",
       "</style>\n",
       "<table border=\"1\" class=\"dataframe\">\n",
       "  <thead>\n",
       "    <tr style=\"text-align: right;\">\n",
       "      <th></th>\n",
       "      <th>First Name</th>\n",
       "      <th>Last Name</th>\n",
       "      <th>transaction</th>\n",
       "    </tr>\n",
       "  </thead>\n",
       "  <tbody>\n",
       "    <tr>\n",
       "      <th>0</th>\n",
       "      <td>nooeukw</td>\n",
       "      <td>uuoaklowalb</td>\n",
       "      <td>{'tx_id': '5ed3d67b8723c11444c43283', 'tx_date...</td>\n",
       "    </tr>\n",
       "    <tr>\n",
       "      <th>1</th>\n",
       "      <td>angulbo</td>\n",
       "      <td>seagn</td>\n",
       "      <td>{'tx_id': '5ed3d67b8723c11444c43283', 'tx_date...</td>\n",
       "    </tr>\n",
       "    <tr>\n",
       "      <th>2</th>\n",
       "      <td>dukowi</td>\n",
       "      <td>eukloomja</td>\n",
       "      <td>{'tx_id': '5ed3d67b8723c11444c43283', 'tx_date...</td>\n",
       "    </tr>\n",
       "    <tr>\n",
       "      <th>3</th>\n",
       "      <td>ltuoawiob</td>\n",
       "      <td>uuilawobmn</td>\n",
       "      <td>{'tx_id': '5ed3d67b8723c11444c43283', 'tx_date...</td>\n",
       "    </tr>\n",
       "    <tr>\n",
       "      <th>4</th>\n",
       "      <td>nakuolo</td>\n",
       "      <td>donald</td>\n",
       "      <td>{'tx_id': '5ed3d67b8723c11444c43283', 'tx_date...</td>\n",
       "    </tr>\n",
       "  </tbody>\n",
       "</table>\n",
       "</div>"
      ],
      "text/plain": [
       "  First Name    Last Name                                        transaction\n",
       "0    nooeukw  uuoaklowalb  {'tx_id': '5ed3d67b8723c11444c43283', 'tx_date...\n",
       "1    angulbo        seagn  {'tx_id': '5ed3d67b8723c11444c43283', 'tx_date...\n",
       "2     dukowi    eukloomja  {'tx_id': '5ed3d67b8723c11444c43283', 'tx_date...\n",
       "3  ltuoawiob   uuilawobmn  {'tx_id': '5ed3d67b8723c11444c43283', 'tx_date...\n",
       "4    nakuolo       donald  {'tx_id': '5ed3d67b8723c11444c43283', 'tx_date..."
      ]
     },
     "execution_count": 2,
     "metadata": {},
     "output_type": "execute_result"
    }
   ],
   "source": [
    "df = pd.read_excel(r\"C:\\\\Users\\\\Uchenna\\Desktop\\\\my work\\\\killa.xlsx\")\n",
    "df.head()"
   ]
  },
  {
   "cell_type": "code",
   "execution_count": 3,
   "metadata": {},
   "outputs": [
    {
     "name": "stdout",
     "output_type": "stream",
     "text": [
      "<class 'pandas.core.frame.DataFrame'>\n",
      "RangeIndex: 127 entries, 0 to 126\n",
      "Data columns (total 3 columns):\n",
      " #   Column       Non-Null Count  Dtype \n",
      "---  ------       --------------  ----- \n",
      " 0   First Name   127 non-null    object\n",
      " 1   Last Name    127 non-null    object\n",
      " 2   transaction  127 non-null    object\n",
      "dtypes: object(3)\n",
      "memory usage: 3.1+ KB\n"
     ]
    }
   ],
   "source": [
    "#Quick overview of the dataset\n",
    "df.info()"
   ]
  },
  {
   "cell_type": "code",
   "execution_count": 4,
   "metadata": {},
   "outputs": [
    {
     "data": {
      "text/plain": [
       "\"{'tx_id': '5ed3d67b8723c11444c43283', 'tx_date': '2020-06-13T06:00:46.904000Z', 'tx_amount': 29627, 'tx_mode': 'Debit', 'tx_channel': 'mobile', 'bank_name': 'GBank', 'dob': ['1992-01-01 00:00:00']}\""
      ]
     },
     "execution_count": 4,
     "metadata": {},
     "output_type": "execute_result"
    }
   ],
   "source": [
    "#A close look at the transaction column\n",
    "df['transaction'][2]"
   ]
  },
  {
   "cell_type": "code",
   "execution_count": 8,
   "metadata": {},
   "outputs": [],
   "source": [
    "df['transaction']=df['transaction'].map(eval)"
   ]
  },
  {
   "cell_type": "code",
   "execution_count": 11,
   "metadata": {},
   "outputs": [
    {
     "data": {
      "text/html": [
       "<div>\n",
       "<style scoped>\n",
       "    .dataframe tbody tr th:only-of-type {\n",
       "        vertical-align: middle;\n",
       "    }\n",
       "\n",
       "    .dataframe tbody tr th {\n",
       "        vertical-align: top;\n",
       "    }\n",
       "\n",
       "    .dataframe thead th {\n",
       "        text-align: right;\n",
       "    }\n",
       "</style>\n",
       "<table border=\"1\" class=\"dataframe\">\n",
       "  <thead>\n",
       "    <tr style=\"text-align: right;\">\n",
       "      <th></th>\n",
       "      <th>tx_id</th>\n",
       "      <th>tx_date</th>\n",
       "      <th>tx_amount</th>\n",
       "      <th>tx_mode</th>\n",
       "      <th>tx_channel</th>\n",
       "      <th>bank_name</th>\n",
       "      <th>dob</th>\n",
       "    </tr>\n",
       "  </thead>\n",
       "  <tbody>\n",
       "    <tr>\n",
       "      <th>0</th>\n",
       "      <td>5ed3d67b8723c11444c43283</td>\n",
       "      <td>2020-06-13T05:28:47.543000Z</td>\n",
       "      <td>6192</td>\n",
       "      <td>Debit</td>\n",
       "      <td>web</td>\n",
       "      <td>QBank</td>\n",
       "      <td>[1992-11-10 00:00:00]</td>\n",
       "    </tr>\n",
       "    <tr>\n",
       "      <th>1</th>\n",
       "      <td>5ed3d67b8723c11444c43283</td>\n",
       "      <td>2020-06-12T20:22:38.986000Z</td>\n",
       "      <td>38445</td>\n",
       "      <td>Debit</td>\n",
       "      <td>mobile</td>\n",
       "      <td>ABank</td>\n",
       "      <td>[n/a]</td>\n",
       "    </tr>\n",
       "    <tr>\n",
       "      <th>2</th>\n",
       "      <td>5ed3d67b8723c11444c43283</td>\n",
       "      <td>2020-06-13T06:00:46.904000Z</td>\n",
       "      <td>29627</td>\n",
       "      <td>Debit</td>\n",
       "      <td>mobile</td>\n",
       "      <td>GBank</td>\n",
       "      <td>[1992-01-01 00:00:00]</td>\n",
       "    </tr>\n",
       "    <tr>\n",
       "      <th>3</th>\n",
       "      <td>5ed3d67b8723c11444c43283</td>\n",
       "      <td>2020-06-13T16:10:51.479000Z</td>\n",
       "      <td>27791</td>\n",
       "      <td>Debit</td>\n",
       "      <td>web</td>\n",
       "      <td>KBank</td>\n",
       "      <td>[1981-01-07 00:00:00]</td>\n",
       "    </tr>\n",
       "    <tr>\n",
       "      <th>4</th>\n",
       "      <td>5ed3d67b8723c11444c43283</td>\n",
       "      <td>2020-06-13T05:28:47.543000Z</td>\n",
       "      <td>6192</td>\n",
       "      <td>Debit</td>\n",
       "      <td>web</td>\n",
       "      <td>QBank</td>\n",
       "      <td>[n/a]</td>\n",
       "    </tr>\n",
       "    <tr>\n",
       "      <th>...</th>\n",
       "      <td>...</td>\n",
       "      <td>...</td>\n",
       "      <td>...</td>\n",
       "      <td>...</td>\n",
       "      <td>...</td>\n",
       "      <td>...</td>\n",
       "      <td>...</td>\n",
       "    </tr>\n",
       "    <tr>\n",
       "      <th>122</th>\n",
       "      <td>5ed3d67b8723c11444c43283</td>\n",
       "      <td>2020-06-13T06:00:46.904000Z</td>\n",
       "      <td>29627</td>\n",
       "      <td>Debit</td>\n",
       "      <td>mobile</td>\n",
       "      <td>GBank</td>\n",
       "      <td>[n/a]</td>\n",
       "    </tr>\n",
       "    <tr>\n",
       "      <th>123</th>\n",
       "      <td>5ed3d67b8723c11444c43283</td>\n",
       "      <td>2020-06-13T16:10:51.479000Z</td>\n",
       "      <td>27791</td>\n",
       "      <td>Debit</td>\n",
       "      <td>web</td>\n",
       "      <td>KBank</td>\n",
       "      <td>[n/a]</td>\n",
       "    </tr>\n",
       "    <tr>\n",
       "      <th>124</th>\n",
       "      <td>5ed3d67b8723c11444c43283</td>\n",
       "      <td>2020-06-13T05:28:47.543000Z</td>\n",
       "      <td>6192</td>\n",
       "      <td>Debit</td>\n",
       "      <td>web</td>\n",
       "      <td>QBank</td>\n",
       "      <td>[n/a]</td>\n",
       "    </tr>\n",
       "    <tr>\n",
       "      <th>125</th>\n",
       "      <td>5ed3d67b8723c11444c43283</td>\n",
       "      <td>2020-06-12T20:22:38.986000Z</td>\n",
       "      <td>38445</td>\n",
       "      <td>Debit</td>\n",
       "      <td>mobile</td>\n",
       "      <td>ABank</td>\n",
       "      <td>[n/a]</td>\n",
       "    </tr>\n",
       "    <tr>\n",
       "      <th>126</th>\n",
       "      <td>5ed3d67b8723c11444c43283</td>\n",
       "      <td>2020-06-13T06:00:46.904000Z</td>\n",
       "      <td>29627</td>\n",
       "      <td>Debit</td>\n",
       "      <td>mobile</td>\n",
       "      <td>GBank</td>\n",
       "      <td>[n/a]</td>\n",
       "    </tr>\n",
       "  </tbody>\n",
       "</table>\n",
       "<p>127 rows × 7 columns</p>\n",
       "</div>"
      ],
      "text/plain": [
       "                        tx_id                      tx_date  tx_amount tx_mode  \\\n",
       "0    5ed3d67b8723c11444c43283  2020-06-13T05:28:47.543000Z       6192   Debit   \n",
       "1    5ed3d67b8723c11444c43283  2020-06-12T20:22:38.986000Z      38445   Debit   \n",
       "2    5ed3d67b8723c11444c43283  2020-06-13T06:00:46.904000Z      29627   Debit   \n",
       "3    5ed3d67b8723c11444c43283  2020-06-13T16:10:51.479000Z      27791   Debit   \n",
       "4    5ed3d67b8723c11444c43283  2020-06-13T05:28:47.543000Z       6192   Debit   \n",
       "..                        ...                          ...        ...     ...   \n",
       "122  5ed3d67b8723c11444c43283  2020-06-13T06:00:46.904000Z      29627   Debit   \n",
       "123  5ed3d67b8723c11444c43283  2020-06-13T16:10:51.479000Z      27791   Debit   \n",
       "124  5ed3d67b8723c11444c43283  2020-06-13T05:28:47.543000Z       6192   Debit   \n",
       "125  5ed3d67b8723c11444c43283  2020-06-12T20:22:38.986000Z      38445   Debit   \n",
       "126  5ed3d67b8723c11444c43283  2020-06-13T06:00:46.904000Z      29627   Debit   \n",
       "\n",
       "    tx_channel bank_name                    dob  \n",
       "0          web     QBank  [1992-11-10 00:00:00]  \n",
       "1       mobile     ABank                  [n/a]  \n",
       "2       mobile     GBank  [1992-01-01 00:00:00]  \n",
       "3          web     KBank  [1981-01-07 00:00:00]  \n",
       "4          web     QBank                  [n/a]  \n",
       "..         ...       ...                    ...  \n",
       "122     mobile     GBank                  [n/a]  \n",
       "123        web     KBank                  [n/a]  \n",
       "124        web     QBank                  [n/a]  \n",
       "125     mobile     ABank                  [n/a]  \n",
       "126     mobile     GBank                  [n/a]  \n",
       "\n",
       "[127 rows x 7 columns]"
      ]
     },
     "execution_count": 11,
     "metadata": {},
     "output_type": "execute_result"
    }
   ],
   "source": [
    "pd.json_normalize(df['transaction'])"
   ]
  },
  {
   "cell_type": "code",
   "execution_count": 13,
   "metadata": {},
   "outputs": [],
   "source": [
    "df = pd.concat([df[['First Name','Last Name']], pd.json_normalize(df['transaction'])],axis=1)"
   ]
  },
  {
   "cell_type": "code",
   "execution_count": 14,
   "metadata": {},
   "outputs": [
    {
     "data": {
      "text/html": [
       "<div>\n",
       "<style scoped>\n",
       "    .dataframe tbody tr th:only-of-type {\n",
       "        vertical-align: middle;\n",
       "    }\n",
       "\n",
       "    .dataframe tbody tr th {\n",
       "        vertical-align: top;\n",
       "    }\n",
       "\n",
       "    .dataframe thead th {\n",
       "        text-align: right;\n",
       "    }\n",
       "</style>\n",
       "<table border=\"1\" class=\"dataframe\">\n",
       "  <thead>\n",
       "    <tr style=\"text-align: right;\">\n",
       "      <th></th>\n",
       "      <th>First Name</th>\n",
       "      <th>Last Name</th>\n",
       "      <th>tx_id</th>\n",
       "      <th>tx_date</th>\n",
       "      <th>tx_amount</th>\n",
       "      <th>tx_mode</th>\n",
       "      <th>tx_channel</th>\n",
       "      <th>bank_name</th>\n",
       "      <th>dob</th>\n",
       "    </tr>\n",
       "  </thead>\n",
       "  <tbody>\n",
       "    <tr>\n",
       "      <th>0</th>\n",
       "      <td>nooeukw</td>\n",
       "      <td>uuoaklowalb</td>\n",
       "      <td>5ed3d67b8723c11444c43283</td>\n",
       "      <td>2020-06-13T05:28:47.543000Z</td>\n",
       "      <td>6192</td>\n",
       "      <td>Debit</td>\n",
       "      <td>web</td>\n",
       "      <td>QBank</td>\n",
       "      <td>[1992-11-10 00:00:00]</td>\n",
       "    </tr>\n",
       "    <tr>\n",
       "      <th>1</th>\n",
       "      <td>angulbo</td>\n",
       "      <td>seagn</td>\n",
       "      <td>5ed3d67b8723c11444c43283</td>\n",
       "      <td>2020-06-12T20:22:38.986000Z</td>\n",
       "      <td>38445</td>\n",
       "      <td>Debit</td>\n",
       "      <td>mobile</td>\n",
       "      <td>ABank</td>\n",
       "      <td>[n/a]</td>\n",
       "    </tr>\n",
       "    <tr>\n",
       "      <th>2</th>\n",
       "      <td>dukowi</td>\n",
       "      <td>eukloomja</td>\n",
       "      <td>5ed3d67b8723c11444c43283</td>\n",
       "      <td>2020-06-13T06:00:46.904000Z</td>\n",
       "      <td>29627</td>\n",
       "      <td>Debit</td>\n",
       "      <td>mobile</td>\n",
       "      <td>GBank</td>\n",
       "      <td>[1992-01-01 00:00:00]</td>\n",
       "    </tr>\n",
       "    <tr>\n",
       "      <th>3</th>\n",
       "      <td>ltuoawiob</td>\n",
       "      <td>uuilawobmn</td>\n",
       "      <td>5ed3d67b8723c11444c43283</td>\n",
       "      <td>2020-06-13T16:10:51.479000Z</td>\n",
       "      <td>27791</td>\n",
       "      <td>Debit</td>\n",
       "      <td>web</td>\n",
       "      <td>KBank</td>\n",
       "      <td>[1981-01-07 00:00:00]</td>\n",
       "    </tr>\n",
       "    <tr>\n",
       "      <th>4</th>\n",
       "      <td>nakuolo</td>\n",
       "      <td>donald</td>\n",
       "      <td>5ed3d67b8723c11444c43283</td>\n",
       "      <td>2020-06-13T05:28:47.543000Z</td>\n",
       "      <td>6192</td>\n",
       "      <td>Debit</td>\n",
       "      <td>web</td>\n",
       "      <td>QBank</td>\n",
       "      <td>[n/a]</td>\n",
       "    </tr>\n",
       "  </tbody>\n",
       "</table>\n",
       "</div>"
      ],
      "text/plain": [
       "  First Name    Last Name                     tx_id  \\\n",
       "0    nooeukw  uuoaklowalb  5ed3d67b8723c11444c43283   \n",
       "1    angulbo        seagn  5ed3d67b8723c11444c43283   \n",
       "2     dukowi    eukloomja  5ed3d67b8723c11444c43283   \n",
       "3  ltuoawiob   uuilawobmn  5ed3d67b8723c11444c43283   \n",
       "4    nakuolo       donald  5ed3d67b8723c11444c43283   \n",
       "\n",
       "                       tx_date  tx_amount tx_mode tx_channel bank_name  \\\n",
       "0  2020-06-13T05:28:47.543000Z       6192   Debit        web     QBank   \n",
       "1  2020-06-12T20:22:38.986000Z      38445   Debit     mobile     ABank   \n",
       "2  2020-06-13T06:00:46.904000Z      29627   Debit     mobile     GBank   \n",
       "3  2020-06-13T16:10:51.479000Z      27791   Debit        web     KBank   \n",
       "4  2020-06-13T05:28:47.543000Z       6192   Debit        web     QBank   \n",
       "\n",
       "                     dob  \n",
       "0  [1992-11-10 00:00:00]  \n",
       "1                  [n/a]  \n",
       "2  [1992-01-01 00:00:00]  \n",
       "3  [1981-01-07 00:00:00]  \n",
       "4                  [n/a]  "
      ]
     },
     "execution_count": 14,
     "metadata": {},
     "output_type": "execute_result"
    }
   ],
   "source": [
    "df.head()\n",
    "#Straighten it out to a table of at least 7 columns"
   ]
  },
  {
   "cell_type": "code",
   "execution_count": 15,
   "metadata": {},
   "outputs": [
    {
     "data": {
      "text/plain": [
       "0    [1992-11-10 00:00:00]\n",
       "1                    [n/a]\n",
       "2    [1992-01-01 00:00:00]\n",
       "3    [1981-01-07 00:00:00]\n",
       "4                    [n/a]\n",
       "Name: dob, dtype: object"
      ]
     },
     "execution_count": 15,
     "metadata": {},
     "output_type": "execute_result"
    }
   ],
   "source": [
    "#identify the top 5 prodominant ages in the dataset\n",
    "df['dob'].head()"
   ]
  },
  {
   "cell_type": "code",
   "execution_count": 16,
   "metadata": {},
   "outputs": [],
   "source": [
    "df['dob'] = df['dob'].apply(pd.Series)"
   ]
  },
  {
   "cell_type": "code",
   "execution_count": 17,
   "metadata": {},
   "outputs": [
    {
     "data": {
      "text/html": [
       "<div>\n",
       "<style scoped>\n",
       "    .dataframe tbody tr th:only-of-type {\n",
       "        vertical-align: middle;\n",
       "    }\n",
       "\n",
       "    .dataframe tbody tr th {\n",
       "        vertical-align: top;\n",
       "    }\n",
       "\n",
       "    .dataframe thead th {\n",
       "        text-align: right;\n",
       "    }\n",
       "</style>\n",
       "<table border=\"1\" class=\"dataframe\">\n",
       "  <thead>\n",
       "    <tr style=\"text-align: right;\">\n",
       "      <th></th>\n",
       "      <th>First Name</th>\n",
       "      <th>Last Name</th>\n",
       "      <th>tx_id</th>\n",
       "      <th>tx_date</th>\n",
       "      <th>tx_amount</th>\n",
       "      <th>tx_mode</th>\n",
       "      <th>tx_channel</th>\n",
       "      <th>bank_name</th>\n",
       "      <th>dob</th>\n",
       "    </tr>\n",
       "  </thead>\n",
       "  <tbody>\n",
       "    <tr>\n",
       "      <th>0</th>\n",
       "      <td>nooeukw</td>\n",
       "      <td>uuoaklowalb</td>\n",
       "      <td>5ed3d67b8723c11444c43283</td>\n",
       "      <td>2020-06-13T05:28:47.543000Z</td>\n",
       "      <td>6192</td>\n",
       "      <td>Debit</td>\n",
       "      <td>web</td>\n",
       "      <td>QBank</td>\n",
       "      <td>1992-11-10 00:00:00</td>\n",
       "    </tr>\n",
       "    <tr>\n",
       "      <th>1</th>\n",
       "      <td>angulbo</td>\n",
       "      <td>seagn</td>\n",
       "      <td>5ed3d67b8723c11444c43283</td>\n",
       "      <td>2020-06-12T20:22:38.986000Z</td>\n",
       "      <td>38445</td>\n",
       "      <td>Debit</td>\n",
       "      <td>mobile</td>\n",
       "      <td>ABank</td>\n",
       "      <td>n/a</td>\n",
       "    </tr>\n",
       "  </tbody>\n",
       "</table>\n",
       "</div>"
      ],
      "text/plain": [
       "  First Name    Last Name                     tx_id  \\\n",
       "0    nooeukw  uuoaklowalb  5ed3d67b8723c11444c43283   \n",
       "1    angulbo        seagn  5ed3d67b8723c11444c43283   \n",
       "\n",
       "                       tx_date  tx_amount tx_mode tx_channel bank_name  \\\n",
       "0  2020-06-13T05:28:47.543000Z       6192   Debit        web     QBank   \n",
       "1  2020-06-12T20:22:38.986000Z      38445   Debit     mobile     ABank   \n",
       "\n",
       "                   dob  \n",
       "0  1992-11-10 00:00:00  \n",
       "1                  n/a  "
      ]
     },
     "execution_count": 17,
     "metadata": {},
     "output_type": "execute_result"
    }
   ],
   "source": [
    "df.head(2)"
   ]
  },
  {
   "cell_type": "code",
   "execution_count": 23,
   "metadata": {},
   "outputs": [],
   "source": [
    "df.to_csv(r\"C:\\\\Users\\\\Uchenna\\Desktop\\\\my work\\\\killa.csv\")"
   ]
  },
  {
   "cell_type": "code",
   "execution_count": 25,
   "metadata": {},
   "outputs": [
    {
     "data": {
      "text/html": [
       "<div>\n",
       "<style scoped>\n",
       "    .dataframe tbody tr th:only-of-type {\n",
       "        vertical-align: middle;\n",
       "    }\n",
       "\n",
       "    .dataframe tbody tr th {\n",
       "        vertical-align: top;\n",
       "    }\n",
       "\n",
       "    .dataframe thead th {\n",
       "        text-align: right;\n",
       "    }\n",
       "</style>\n",
       "<table border=\"1\" class=\"dataframe\">\n",
       "  <thead>\n",
       "    <tr style=\"text-align: right;\">\n",
       "      <th></th>\n",
       "      <th>Unnamed: 0</th>\n",
       "      <th>First Name</th>\n",
       "      <th>Last Name</th>\n",
       "      <th>tx_id</th>\n",
       "      <th>tx_date</th>\n",
       "      <th>tx_amount</th>\n",
       "      <th>tx_mode</th>\n",
       "      <th>tx_channel</th>\n",
       "      <th>bank_name</th>\n",
       "      <th>dob</th>\n",
       "    </tr>\n",
       "  </thead>\n",
       "  <tbody>\n",
       "    <tr>\n",
       "      <th>0</th>\n",
       "      <td>0</td>\n",
       "      <td>nooeukw</td>\n",
       "      <td>uuoaklowalb</td>\n",
       "      <td>5ed3d67b8723c11444c43283</td>\n",
       "      <td>2020-06-13T05:28:47.543000Z</td>\n",
       "      <td>6192</td>\n",
       "      <td>Debit</td>\n",
       "      <td>web</td>\n",
       "      <td>QBank</td>\n",
       "      <td>1992-11-10</td>\n",
       "    </tr>\n",
       "    <tr>\n",
       "      <th>1</th>\n",
       "      <td>1</td>\n",
       "      <td>angulbo</td>\n",
       "      <td>seagn</td>\n",
       "      <td>5ed3d67b8723c11444c43283</td>\n",
       "      <td>2020-06-12T20:22:38.986000Z</td>\n",
       "      <td>38445</td>\n",
       "      <td>Debit</td>\n",
       "      <td>mobile</td>\n",
       "      <td>ABank</td>\n",
       "      <td>NaT</td>\n",
       "    </tr>\n",
       "  </tbody>\n",
       "</table>\n",
       "</div>"
      ],
      "text/plain": [
       "   Unnamed: 0 First Name    Last Name                     tx_id  \\\n",
       "0           0    nooeukw  uuoaklowalb  5ed3d67b8723c11444c43283   \n",
       "1           1    angulbo        seagn  5ed3d67b8723c11444c43283   \n",
       "\n",
       "                       tx_date  tx_amount tx_mode tx_channel bank_name  \\\n",
       "0  2020-06-13T05:28:47.543000Z       6192   Debit        web     QBank   \n",
       "1  2020-06-12T20:22:38.986000Z      38445   Debit     mobile     ABank   \n",
       "\n",
       "         dob  \n",
       "0 1992-11-10  \n",
       "1        NaT  "
      ]
     },
     "execution_count": 25,
     "metadata": {},
     "output_type": "execute_result"
    }
   ],
   "source": [
    "df = pd.read_csv('killa.csv', parse_dates =  ['dob'])\n",
    "df.head(2)"
   ]
  },
  {
   "cell_type": "code",
   "execution_count": 29,
   "metadata": {},
   "outputs": [],
   "source": [
    "df.drop(['Unnamed: 0'],axis=1,inplace=True)"
   ]
  },
  {
   "cell_type": "code",
   "execution_count": 30,
   "metadata": {},
   "outputs": [
    {
     "data": {
      "text/html": [
       "<div>\n",
       "<style scoped>\n",
       "    .dataframe tbody tr th:only-of-type {\n",
       "        vertical-align: middle;\n",
       "    }\n",
       "\n",
       "    .dataframe tbody tr th {\n",
       "        vertical-align: top;\n",
       "    }\n",
       "\n",
       "    .dataframe thead th {\n",
       "        text-align: right;\n",
       "    }\n",
       "</style>\n",
       "<table border=\"1\" class=\"dataframe\">\n",
       "  <thead>\n",
       "    <tr style=\"text-align: right;\">\n",
       "      <th></th>\n",
       "      <th>First Name</th>\n",
       "      <th>Last Name</th>\n",
       "      <th>tx_id</th>\n",
       "      <th>tx_date</th>\n",
       "      <th>tx_amount</th>\n",
       "      <th>tx_mode</th>\n",
       "      <th>tx_channel</th>\n",
       "      <th>bank_name</th>\n",
       "      <th>dob</th>\n",
       "    </tr>\n",
       "  </thead>\n",
       "  <tbody>\n",
       "    <tr>\n",
       "      <th>0</th>\n",
       "      <td>nooeukw</td>\n",
       "      <td>uuoaklowalb</td>\n",
       "      <td>5ed3d67b8723c11444c43283</td>\n",
       "      <td>2020-06-13T05:28:47.543000Z</td>\n",
       "      <td>6192</td>\n",
       "      <td>Debit</td>\n",
       "      <td>web</td>\n",
       "      <td>QBank</td>\n",
       "      <td>1992-11-10</td>\n",
       "    </tr>\n",
       "    <tr>\n",
       "      <th>1</th>\n",
       "      <td>angulbo</td>\n",
       "      <td>seagn</td>\n",
       "      <td>5ed3d67b8723c11444c43283</td>\n",
       "      <td>2020-06-12T20:22:38.986000Z</td>\n",
       "      <td>38445</td>\n",
       "      <td>Debit</td>\n",
       "      <td>mobile</td>\n",
       "      <td>ABank</td>\n",
       "      <td>NaT</td>\n",
       "    </tr>\n",
       "  </tbody>\n",
       "</table>\n",
       "</div>"
      ],
      "text/plain": [
       "  First Name    Last Name                     tx_id  \\\n",
       "0    nooeukw  uuoaklowalb  5ed3d67b8723c11444c43283   \n",
       "1    angulbo        seagn  5ed3d67b8723c11444c43283   \n",
       "\n",
       "                       tx_date  tx_amount tx_mode tx_channel bank_name  \\\n",
       "0  2020-06-13T05:28:47.543000Z       6192   Debit        web     QBank   \n",
       "1  2020-06-12T20:22:38.986000Z      38445   Debit     mobile     ABank   \n",
       "\n",
       "         dob  \n",
       "0 1992-11-10  \n",
       "1        NaT  "
      ]
     },
     "execution_count": 30,
     "metadata": {},
     "output_type": "execute_result"
    }
   ],
   "source": [
    "df.head(2)"
   ]
  },
  {
   "cell_type": "code",
   "execution_count": 31,
   "metadata": {},
   "outputs": [],
   "source": [
    "df['year'] = pd.to_datetime(df['dob'], unit ='ms').dt.year"
   ]
  },
  {
   "cell_type": "code",
   "execution_count": 32,
   "metadata": {},
   "outputs": [
    {
     "data": {
      "text/html": [
       "<div>\n",
       "<style scoped>\n",
       "    .dataframe tbody tr th:only-of-type {\n",
       "        vertical-align: middle;\n",
       "    }\n",
       "\n",
       "    .dataframe tbody tr th {\n",
       "        vertical-align: top;\n",
       "    }\n",
       "\n",
       "    .dataframe thead th {\n",
       "        text-align: right;\n",
       "    }\n",
       "</style>\n",
       "<table border=\"1\" class=\"dataframe\">\n",
       "  <thead>\n",
       "    <tr style=\"text-align: right;\">\n",
       "      <th></th>\n",
       "      <th>First Name</th>\n",
       "      <th>Last Name</th>\n",
       "      <th>tx_id</th>\n",
       "      <th>tx_date</th>\n",
       "      <th>tx_amount</th>\n",
       "      <th>tx_mode</th>\n",
       "      <th>tx_channel</th>\n",
       "      <th>bank_name</th>\n",
       "      <th>dob</th>\n",
       "      <th>year</th>\n",
       "    </tr>\n",
       "  </thead>\n",
       "  <tbody>\n",
       "    <tr>\n",
       "      <th>0</th>\n",
       "      <td>nooeukw</td>\n",
       "      <td>uuoaklowalb</td>\n",
       "      <td>5ed3d67b8723c11444c43283</td>\n",
       "      <td>2020-06-13T05:28:47.543000Z</td>\n",
       "      <td>6192</td>\n",
       "      <td>Debit</td>\n",
       "      <td>web</td>\n",
       "      <td>QBank</td>\n",
       "      <td>1992-11-10</td>\n",
       "      <td>1992.0</td>\n",
       "    </tr>\n",
       "    <tr>\n",
       "      <th>1</th>\n",
       "      <td>angulbo</td>\n",
       "      <td>seagn</td>\n",
       "      <td>5ed3d67b8723c11444c43283</td>\n",
       "      <td>2020-06-12T20:22:38.986000Z</td>\n",
       "      <td>38445</td>\n",
       "      <td>Debit</td>\n",
       "      <td>mobile</td>\n",
       "      <td>ABank</td>\n",
       "      <td>NaT</td>\n",
       "      <td>NaN</td>\n",
       "    </tr>\n",
       "  </tbody>\n",
       "</table>\n",
       "</div>"
      ],
      "text/plain": [
       "  First Name    Last Name                     tx_id  \\\n",
       "0    nooeukw  uuoaklowalb  5ed3d67b8723c11444c43283   \n",
       "1    angulbo        seagn  5ed3d67b8723c11444c43283   \n",
       "\n",
       "                       tx_date  tx_amount tx_mode tx_channel bank_name  \\\n",
       "0  2020-06-13T05:28:47.543000Z       6192   Debit        web     QBank   \n",
       "1  2020-06-12T20:22:38.986000Z      38445   Debit     mobile     ABank   \n",
       "\n",
       "         dob    year  \n",
       "0 1992-11-10  1992.0  \n",
       "1        NaT     NaN  "
      ]
     },
     "execution_count": 32,
     "metadata": {},
     "output_type": "execute_result"
    }
   ],
   "source": [
    "df.head(2)"
   ]
  },
  {
   "cell_type": "code",
   "execution_count": 34,
   "metadata": {},
   "outputs": [
    {
     "name": "stdout",
     "output_type": "stream",
     "text": [
      "1992.0    6\n",
      "1980.0    5\n",
      "1989.0    4\n",
      "1976.0    4\n",
      "1999.0    3\n",
      "Name: year, dtype: int64\n"
     ]
    }
   ],
   "source": [
    "age = df['year'].value_counts().head()\n",
    "print(age)"
   ]
  },
  {
   "cell_type": "code",
   "execution_count": 35,
   "metadata": {},
   "outputs": [
    {
     "data": {
      "image/png": "[encoded data removed]",
      "text/plain": [
       "<Figure size 432x288 with 1 Axes>"
      ]
     },
     "metadata": {},
     "output_type": "display_data"
    }
   ],
   "source": [
    "age.plot(kind='bar')\n",
    "plt.xticks(rotation=0,weight='bold')\n",
    "plt.title('Top Five predominant Ages in the Dataset', weight ='bold', fontsize=14)\n",
    "for i,j in enumerate(age):\n",
    "    plt.text(i,j,j, ha = 'center', weight ='bold')"
   ]
  },
  {
   "cell_type": "code",
   "execution_count": 36,
   "metadata": {},
   "outputs": [
    {
     "data": {
      "text/plain": [
       "GBank    32\n",
       "ABank    32\n",
       "QBank    32\n",
       "KBank    31\n",
       "Name: bank_name, dtype: int64"
      ]
     },
     "execution_count": 36,
     "metadata": {},
     "output_type": "execute_result"
    }
   ],
   "source": [
    " #Determine the Bank with the Largest share of transaction\n",
    "bank_trans = df['bank_name'].value_counts()\n",
    "bank_trans"
   ]
  },
  {
   "cell_type": "code",
   "execution_count": 40,
   "metadata": {},
   "outputs": [
    {
     "data": {
      "image/png": "[encoded data removed]",
      "text/plain": [
       "<Figure size 432x288 with 1 Axes>"
      ]
     },
     "metadata": {},
     "output_type": "display_data"
    }
   ],
   "source": [
    "#Viaua;izing the information above\n",
    "bank_trans.plot(kind='bar')\n",
    "plt.ylabel('Total Number of Transactions', fontsize=12)\n",
    "plt.xticks(rotation=0, weight='bold')\n",
    "plt.title('Total Number of Transactions by Bank', weight='bold',fontsize=14)\n",
    "for i,j in enumerate(bank_trans):\n",
    "    plt.text(i,j,j, ha = 'center', weight ='bold')"
   ]
  },
  {
   "cell_type": "code",
   "execution_count": 42,
   "metadata": {},
   "outputs": [
    {
     "data": {
      "text/plain": [
       "mobile    64\n",
       "web       63\n",
       "Name: tx_channel, dtype: int64"
      ]
     },
     "execution_count": 42,
     "metadata": {},
     "output_type": "execute_result"
    }
   ],
   "source": [
    "# Show distribution of channels used on transactions\n",
    "channel= df['tx_channel'].value_counts()\n",
    "channel"
   ]
  },
  {
   "cell_type": "code",
   "execution_count": 45,
   "metadata": {},
   "outputs": [
    {
     "data": {
      "image/png": "[encoded data removed]",
      "text/plain": [
       "<Figure size 720x360 with 1 Axes>"
      ]
     },
     "metadata": {},
     "output_type": "display_data"
    }
   ],
   "source": [
    "#Visualizing the results\n",
    "plt.figure(figsize=(10,5))\n",
    "\n",
    "color= (\"#FADBD8\", \"#D1F2EB\")\n",
    "plt.pie(channel, data = df, explode=[0.07,0], labels=(\"Mobile\", \"web\"),\n",
    "       autopct=\"%1.1f%%\", colors=color, shadow=True, startangle=90, radius=1.2)\n",
    "plt.title(\"Distribution of Channels used on Transactions\", loc=\"center\", fontsize =13, weight= 'bold')\n",
    "plt.show()"
   ]
  },
  {
   "cell_type": "code",
   "execution_count": null,
   "metadata": {},
   "outputs": [],
   "source": []
  }
 ],
 "metadata": {
  "kernelspec": {
   "display_name": "Python 3",
   "language": "python",
   "name": "python3"
  },
  "language_info": {
   "codemirror_mode": {
    "name": "ipython",
    "version": 3
   },
   "file_extension": ".py",
   "mimetype": "text/x-python",
   "name": "python",
   "nbconvert_exporter": "python",
   "pygments_lexer": "ipython3",
   "version": "3.8.5"
  }
 },
 "nbformat": 4,
 "nbformat_minor": 2
}
